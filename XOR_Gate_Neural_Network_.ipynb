{
  "nbformat": 4,
  "nbformat_minor": 0,
  "metadata": {
    "colab": {
      "name": "XOR Gate Neural Network .ipynb",
      "provenance": [],
      "collapsed_sections": []
    },
    "kernelspec": {
      "name": "python3",
      "display_name": "Python 3"
    }
  },
  "cells": [
    {
      "cell_type": "code",
      "metadata": {
        "id": "YxYy4QVzsFXI",
        "colab_type": "code",
        "outputId": "cbc7ef2b-92cd-481e-b8a9-cd1e6db18d30",
        "colab": {
          "base_uri": "https://localhost:8080/",
          "height": 108
        }
      },
      "source": [
        "import numpy as np\n",
        "import matplotlib.pyplot as plt\n",
        "X=np.vstack(([0,0],[0,1],[1,0],[1,1]))\n",
        "t=np.array([0,1,1,0]).reshape(-1,1)\n",
        "alpha=0.1\n",
        "W1=np.random.rand(2,16)\n",
        "W2=np.random.rand(16,1)\n",
        "def sigmoid(x):\n",
        "  return (1/(1+np.exp(-x)))\n",
        "Loss=[]\n",
        "for i in range(10000):\n",
        "  z=sigmoid(np.dot(X,W1))\n",
        "  y=sigmoid(np.dot(z,W2))\n",
        "  loss=1/4*np.sum((y-t)**2)\n",
        "  grad_W2=2*(np.dot(y1.T,(y-t)*y*(1-y)))\n",
        "  grad_W1=2*np.dot(X.T,np.dot((y-t)*y*(1-y),W2.T)*z*(1-z))\n",
        "  W2=W2-alpha*grad_W2\n",
        "  W1=W1-alpha*grad_W1\n",
        "  Loss.append(loss)\n",
        "\n",
        "\n",
        "print(\"Output\")\n",
        "print(y)\n"
      ],
      "execution_count": 0,
      "outputs": [
        {
          "output_type": "stream",
          "text": [
            "Output\n",
            "[[0.02596817]\n",
            " [0.97452398]\n",
            " [0.98056913]\n",
            " [0.0205437 ]]\n"
          ],
          "name": "stdout"
        }
      ]
    },
    {
      "cell_type": "code",
      "metadata": {
        "id": "6922GN3occIj",
        "colab_type": "code",
        "outputId": "19b8c17f-460c-42b4-8752-8f442efc23d9",
        "colab": {
          "base_uri": "https://localhost:8080/",
          "height": 108
        }
      },
      "source": [
        "import numpy as np\n",
        "import matplotlib.pyplot as plt\n",
        "X=np.vstack(([0,0],[0,1],[1,0],[1,1]))\n",
        "t=np.array([0,1,1,0]).reshape(-1,1)\n",
        "alpha=1\n",
        "W1=np.random.rand(2,16)\n",
        "W2=np.random.rand(16,1)\n",
        "def sigmoid(x):\n",
        "  return (1/(1+np.exp(-x)))\n",
        "Loss1=[]\n",
        "for i in range(10000):\n",
        "  z=sigmoid(np.dot(X,W1))\n",
        "  y=sigmoid(np.dot(z,W2))\n",
        "  loss=1/4*np.sum((y-t)**2)\n",
        "  grad_W2=2*(np.dot(y1.T,(y-t)*y*(1-y)))\n",
        "  grad_W1=2*np.dot(X.T,np.dot((y-t)*y*(1-y),W2.T)*z*(1-z))\n",
        "  W2=W2-alpha*grad_W2\n",
        "  W1=W1-alpha*grad_W1\n",
        "  Loss1.append(loss)\n",
        "\n",
        "\n",
        "print(\"Output\")\n",
        "print(y)\n"
      ],
      "execution_count": 0,
      "outputs": [
        {
          "output_type": "stream",
          "text": [
            "Output\n",
            "[[0.00870215]\n",
            " [0.99196334]\n",
            " [0.99219239]\n",
            " [0.00739726]]\n"
          ],
          "name": "stdout"
        }
      ]
    },
    {
      "cell_type": "code",
      "metadata": {
        "id": "qAssFVFHdIWk",
        "colab_type": "code",
        "outputId": "6157fc37-a657-401b-a5e5-456eed3ca259",
        "colab": {
          "base_uri": "https://localhost:8080/",
          "height": 108
        }
      },
      "source": [
        "import numpy as np\n",
        "import matplotlib.pyplot as plt\n",
        "X=np.vstack(([0,0],[0,1],[1,0],[1,1]))\n",
        "t=np.array([0,1,1,0]).reshape(-1,1)\n",
        "alpha=0.01\n",
        "W1=np.random.rand(2,16)\n",
        "W2=np.random.rand(16,1)\n",
        "def sigmoid(x):\n",
        "  return (1/(1+np.exp(-x)))\n",
        "Loss2=[]\n",
        "for i in range(10000):\n",
        "  z=sigmoid(np.dot(X,W1))\n",
        "  y=sigmoid(np.dot(z,W2))\n",
        "  loss=1/4*np.sum((y-t)**2)\n",
        "  grad_W2=2*(np.dot(y1.T,(y-t)*y*(1-y)))\n",
        "  grad_W1=2*np.dot(X.T,np.dot((y-t)*y*(1-y),W2.T)*z*(1-z))\n",
        "  W2=W2-alpha*grad_W2\n",
        "  W1=W1-alpha*grad_W1\n",
        "  Loss2.append(loss)\n",
        "\n",
        "\n",
        "print(\"Output\")\n",
        "print(y)\n"
      ],
      "execution_count": 0,
      "outputs": [
        {
          "output_type": "stream",
          "text": [
            "Output\n",
            "[[0.09984795]\n",
            " [0.85133235]\n",
            " [0.85843462]\n",
            " [0.16874846]]\n"
          ],
          "name": "stdout"
        }
      ]
    },
    {
      "cell_type": "markdown",
      "metadata": {
        "id": "PqrRIdZpD-zX",
        "colab_type": "text"
      },
      "source": [
        "#$z=\\sigma(W_1x+b_1)$\n",
        "\n",
        "#$y=\\sigma(W_2\\sigma(W_1x+b_1)+b_2)$\n",
        "\n",
        "#$y=\\sigma(W_2z+b_2)$\n",
        "\n",
        "\n",
        "##Mean Squared Error\n",
        "\n",
        "#$J=\\sum_{i=1}^N(y-t)^2$\n",
        "\n",
        "###$y=$Predicted Output\n",
        "\n",
        "###$t=$Target Variable\n",
        "\n",
        "##Gradient of Loss with respect to W2\n",
        "\n",
        "#$\\frac{{\\partial J}}{\\partial W_2}=\\frac{{\\partial J}}{\\partial y}\\frac{{\\partial y}}{\\partial W_2}$\n",
        "\n",
        "#$\\frac{{\\partial J}}{\\partial y}=2(y-t)$\n",
        "\n",
        "#$\\frac{{\\partial y}}{\\partial W_2}=\\sigma(W_2z+b_2)(1-\\sigma(W_2z+b_2))z$\n",
        "\n",
        "#$\\frac{{\\partial J}}{\\partial W_2}=2(y-t)y(1-y)z$\n",
        "\n",
        "##Gradient Descent Update Rule\n",
        "\n",
        "#$W_2=W_2-\\alpha\\frac{{\\partial J}}{\\partial W_2}$\n",
        "\n",
        "#$W_2=W_2-\\alpha2(y-t)y(1-y)z$\n",
        "\n",
        "\n",
        "##Gradient of Loss with respect to W1\n",
        "\n",
        "#$\\frac{{\\partial J}}{\\partial W_1}=\\frac{{\\partial J}}{\\partial y}\\frac{{\\partial y}}{\\partial z}\\frac{{\\partial z}}{\\partial W_1}$\n",
        "\n",
        "\n",
        "#$\\frac{{\\partial J}}{\\partial y}=2(y-t)$\n",
        "\n",
        "#$\\frac{{\\partial y}}{\\partial z}=\\sigma(W_2z+b_2)(1-\\sigma(W_2z+b_2))W_2$\n",
        "\n",
        "#$\\frac{{\\partial z}}{\\partial W_1}=\\sigma(W_1x+b_1)(1-\\sigma(W_1z+b_1))x$\n",
        "\n",
        "\n",
        "#$\\frac{{\\partial J}}{\\partial W_1}=2(y-t)y(1-y)W_2z(1-z)x$\n",
        "\n",
        "##Gradient Descent Update Rule\n",
        "\n",
        "#$W_1=W_1-\\alpha\\frac{{\\partial J}}{\\partial W_1}$\n",
        "\n",
        "#$W_1=W_1-\\alpha2(y-t)y(1-y)W_2z(1-z)x$\n",
        "\n",
        "\n",
        "\n",
        "\n",
        "\n"
      ]
    },
    {
      "cell_type": "code",
      "metadata": {
        "id": "9TX9QTnPkYyA",
        "colab_type": "code",
        "outputId": "e1bd2f6f-0aa2-45cc-fa60-0b6b71c5cea8",
        "colab": {
          "base_uri": "https://localhost:8080/",
          "height": 388
        }
      },
      "source": [
        "plt.figure(figsize=(8,5))\n",
        "plt.plot(X[:,[0]],X[:,[0]],color=\"red\",marker='.', markersize=25,markerfacecolor=\"red\",\n",
        "         markeredgecolor='black',\n",
        "         markeredgewidth=1,label=\"Class A\")\n",
        "\n",
        "plt.plot(X[1:3,0],X[1:3,1],color=\"blue\",marker='*', markersize=25,markerfacecolor=\"blue\",\n",
        "         markeredgecolor='black',\n",
        "         markeredgewidth=1,label=\"Class B\")\n",
        "\n",
        "plt.plot([0,1],[1,0],color=\"red\",markersize=2)\n",
        "plt.plot(0.5,0.5,marker=\"X\",color=\"green\",markersize=13,label=\"Sign of Non-Linearly Separable\")\n",
        "plt.xlabel(\"X1\",size=20)\n",
        "plt.ylabel(\"X2\",size=20)\n",
        "plt.title(\"XOR Gate Data Space\",size=22)\n",
        "plt.xticks(size=15)\n",
        "plt.yticks(size=15)\n",
        "plt.legend()"
      ],
      "execution_count": 0,
      "outputs": [
        {
          "output_type": "execute_result",
          "data": {
            "text/plain": [
              "<matplotlib.legend.Legend at 0x7fd1837bac18>"
            ]
          },
          "metadata": {
            "tags": []
          },
          "execution_count": 55
        },
        {
          "output_type": "display_data",
          "data": {
            "image/png": "[encoded data removed]",
            "text/plain": [
              "<Figure size 576x360 with 1 Axes>"
            ]
          },
          "metadata": {
            "tags": [],
            "needs_background": "light"
          }
        }
      ]
    },
    {
      "cell_type": "code",
      "metadata": {
        "id": "KKEmbVeQOssq",
        "colab_type": "code",
        "outputId": "200028ec-a99b-4b13-a2ce-a7e1e0998810",
        "colab": {
          "base_uri": "https://localhost:8080/",
          "height": 475
        }
      },
      "source": [
        "plt.figure(figsize=(11,7))\n",
        "plt.scatter(np.arange(1,10001),Loss,color=\"red\",marker=\"*\",label=\"Learning Rate=0.1\")\n",
        "plt.scatter(np.arange(1,10001),Loss1,color=\"blue\",marker=\"*\",label=\"Learning Rate=1\")\n",
        "plt.scatter(np.arange(1,10001),Loss2,color=\"green\",marker=\"*\",label=\"Learning Rate=0.01\")\n",
        "plt.xlabel(\"Number of Epochs\",size=20)\n",
        "plt.ylabel(\"Mean-Squared Loss\",size=20)\n",
        "plt.xticks(size=15)\n",
        "plt.yticks(size=15)\n",
        "plt.legend()"
      ],
      "execution_count": 0,
      "outputs": [
        {
          "output_type": "execute_result",
          "data": {
            "text/plain": [
              "<matplotlib.legend.Legend at 0x7fd18314f630>"
            ]
          },
          "metadata": {
            "tags": []
          },
          "execution_count": 54
        },
        {
          "output_type": "display_data",
          "data": {
            "image/png": "[encoded data removed]",
            "text/plain": [
              "<Figure size 792x504 with 1 Axes>"
            ]
          },
          "metadata": {
            "tags": [],
            "needs_background": "light"
          }
        }
      ]
    },
    {
      "cell_type": "code",
      "metadata": {
        "id": "KobtVaq645P-",
        "colab_type": "code",
        "outputId": "c36be78d-c356-4810-cd32-9f96cb3cbe81",
        "colab": {
          "base_uri": "https://localhost:8080/",
          "height": 35
        }
      },
      "source": [
        "#%tensorflow_version 1.x\n",
        "import tensorflow\n",
        "#print(tensorflow.__version__)\n",
        "from keras.models import Sequential\n",
        "from keras.layers import Dense,MaxPool2D,Conv2D,Flatten"
      ],
      "execution_count": 0,
      "outputs": [
        {
          "output_type": "stream",
          "text": [
            "Using TensorFlow backend.\n"
          ],
          "name": "stderr"
        }
      ]
    },
    {
      "cell_type": "code",
      "metadata": {
        "id": "ryLMjdnJhWN6",
        "colab_type": "code",
        "outputId": "a8a39c50-a221-46e4-affe-527e303635fb",
        "colab": {
          "base_uri": "https://localhost:8080/",
          "height": 35
        }
      },
      "source": [
        "model=Sequential()\n",
        "X.shape\n",
        "z=np.array([2,0]).reshape(1,2)\n",
        "z.shape\n",
        "z"
      ],
      "execution_count": 0,
      "outputs": [
        {
          "output_type": "execute_result",
          "data": {
            "text/plain": [
              "array([[2, 0]])"
            ]
          },
          "metadata": {
            "tags": []
          },
          "execution_count": 142
        }
      ]
    },
    {
      "cell_type": "code",
      "metadata": {
        "id": "L22w4kODhddT",
        "colab_type": "code",
        "colab": {}
      },
      "source": [
        "model = Sequential()\n",
        "model.add(Dense(16, input_dim=2, activation='relu'))\n",
        "\n",
        "\n",
        "\n",
        "\n",
        "\n",
        "model.add(Dense(1, activation='sigmoid'))\n",
        "\n",
        "model.compile(loss='mean_squared_error',\n",
        "              optimizer='adam',\n",
        "              metrics=['accuracy'])"
      ],
      "execution_count": 0,
      "outputs": []
    },
    {
      "cell_type": "code",
      "metadata": {
        "id": "KJ9IbVVUhv1-",
        "colab_type": "code",
        "outputId": "0c526ead-3950-4719-9be8-d6a599818f73",
        "colab": {
          "base_uri": "https://localhost:8080/",
          "height": 799
        }
      },
      "source": [
        "model.fit(X,t,nb_epoch=20)"
      ],
      "execution_count": 0,
      "outputs": [
        {
          "output_type": "stream",
          "text": [
            "/usr/local/lib/python3.6/dist-packages/ipykernel_launcher.py:1: UserWarning: The `nb_epoch` argument in `fit` has been renamed `epochs`.\n",
            "  \"\"\"Entry point for launching an IPython kernel.\n"
          ],
          "name": "stderr"
        },
        {
          "output_type": "stream",
          "text": [
            "Epoch 1/20\n",
            "4/4 [==============================] - 0s 67ms/step - loss: 0.2437 - accuracy: 0.7500\n",
            "Epoch 2/20\n",
            "4/4 [==============================] - 0s 475us/step - loss: 0.2432 - accuracy: 0.7500\n",
            "Epoch 3/20\n",
            "4/4 [==============================] - 0s 2ms/step - loss: 0.2427 - accuracy: 0.7500\n",
            "Epoch 4/20\n",
            "4/4 [==============================] - 0s 486us/step - loss: 0.2422 - accuracy: 0.7500\n",
            "Epoch 5/20\n",
            "4/4 [==============================] - 0s 423us/step - loss: 0.2417 - accuracy: 0.7500\n",
            "Epoch 6/20\n",
            "4/4 [==============================] - 0s 409us/step - loss: 0.2412 - accuracy: 0.7500\n",
            "Epoch 7/20\n",
            "4/4 [==============================] - 0s 544us/step - loss: 0.2407 - accuracy: 1.0000\n",
            "Epoch 8/20\n",
            "4/4 [==============================] - 0s 428us/step - loss: 0.2402 - accuracy: 1.0000\n",
            "Epoch 9/20\n",
            "4/4 [==============================] - 0s 599us/step - loss: 0.2397 - accuracy: 1.0000\n",
            "Epoch 10/20\n",
            "4/4 [==============================] - 0s 531us/step - loss: 0.2392 - accuracy: 1.0000\n",
            "Epoch 11/20\n",
            "4/4 [==============================] - 0s 662us/step - loss: 0.2387 - accuracy: 1.0000\n",
            "Epoch 12/20\n",
            "4/4 [==============================] - 0s 658us/step - loss: 0.2382 - accuracy: 1.0000\n",
            "Epoch 13/20\n",
            "4/4 [==============================] - 0s 676us/step - loss: 0.2377 - accuracy: 1.0000\n",
            "Epoch 14/20\n",
            "4/4 [==============================] - 0s 708us/step - loss: 0.2372 - accuracy: 1.0000\n",
            "Epoch 15/20\n",
            "4/4 [==============================] - 0s 964us/step - loss: 0.2367 - accuracy: 1.0000\n",
            "Epoch 16/20\n",
            "4/4 [==============================] - 0s 513us/step - loss: 0.2362 - accuracy: 1.0000\n",
            "Epoch 17/20\n",
            "4/4 [==============================] - 0s 615us/step - loss: 0.2357 - accuracy: 1.0000\n",
            "Epoch 18/20\n",
            "4/4 [==============================] - 0s 439us/step - loss: 0.2352 - accuracy: 1.0000\n",
            "Epoch 19/20\n",
            "4/4 [==============================] - 0s 403us/step - loss: 0.2347 - accuracy: 1.0000\n",
            "Epoch 20/20\n",
            "4/4 [==============================] - 0s 353us/step - loss: 0.2343 - accuracy: 1.0000\n"
          ],
          "name": "stdout"
        },
        {
          "output_type": "execute_result",
          "data": {
            "text/plain": [
              "<keras.callbacks.callbacks.History at 0x7f946117bfd0>"
            ]
          },
          "metadata": {
            "tags": []
          },
          "execution_count": 144
        }
      ]
    },
    {
      "cell_type": "code",
      "metadata": {
        "id": "N5jjbLVmjSme",
        "colab_type": "code",
        "outputId": "e9975dc4-5b43-45e9-9538-39815ad474c2",
        "colab": {
          "base_uri": "https://localhost:8080/",
          "height": 35
        }
      },
      "source": [
        "model.predict((z))"
      ],
      "execution_count": 0,
      "outputs": [
        {
          "output_type": "execute_result",
          "data": {
            "text/plain": [
              "array([[0.5417231]], dtype=float32)"
            ]
          },
          "metadata": {
            "tags": []
          },
          "execution_count": 145
        }
      ]
    },
    {
      "cell_type": "code",
      "metadata": {
        "id": "SLpoWIsnmPCb",
        "colab_type": "code",
        "outputId": "7b74a507-36ef-40ce-af4a-8fe8dde1edfc",
        "colab": {
          "base_uri": "https://localhost:8080/",
          "height": 35
        }
      },
      "source": [
        "model.count_params()"
      ],
      "execution_count": 0,
      "outputs": [
        {
          "output_type": "execute_result",
          "data": {
            "text/plain": [
              "65"
            ]
          },
          "metadata": {
            "tags": []
          },
          "execution_count": 146
        }
      ]
    },
    {
      "cell_type": "code",
      "metadata": {
        "id": "sKIhOGAcnO0x",
        "colab_type": "code",
        "outputId": "debaaeb6-3905-4a50-e628-37c0e440c086",
        "colab": {
          "base_uri": "https://localhost:8080/",
          "height": 235
        }
      },
      "source": [
        "model.summary()"
      ],
      "execution_count": 0,
      "outputs": [
        {
          "output_type": "stream",
          "text": [
            "Model: \"sequential_2\"\n",
            "_________________________________________________________________\n",
            "Layer (type)                 Output Shape              Param #   \n",
            "=================================================================\n",
            "dense_1 (Dense)              (None, 16)                48        \n",
            "_________________________________________________________________\n",
            "dense_2 (Dense)              (None, 1)                 17        \n",
            "=================================================================\n",
            "Total params: 65\n",
            "Trainable params: 65\n",
            "Non-trainable params: 0\n",
            "_________________________________________________________________\n"
          ],
          "name": "stdout"
        }
      ]
    },
    {
      "cell_type": "code",
      "metadata": {
        "id": "9Qn1Ko0GnQND",
        "colab_type": "code",
        "outputId": "60487b0a-61a7-42ed-d632-8e0d85d154eb",
        "colab": {
          "base_uri": "https://localhost:8080/",
          "height": 545
        }
      },
      "source": [
        "model.get_weights()\n"
      ],
      "execution_count": 0,
      "outputs": [
        {
          "output_type": "execute_result",
          "data": {
            "text/plain": [
              "[array([[-0.20334753,  0.34726873, -0.3963627 , -0.16323787,  0.2894306 ,\n",
              "         -0.46803677,  0.3647624 , -0.10478591, -0.22237179,  0.5088591 ,\n",
              "          0.02035698, -0.3170005 ,  0.07534866, -0.2828504 ,  0.15366285,\n",
              "          0.22871134],\n",
              "        [ 0.40950757, -0.5614799 ,  0.04732525, -0.2280722 ,  0.43656054,\n",
              "          0.05157752, -0.5754209 ,  0.37312925,  0.04787859, -0.37922508,\n",
              "          0.47450596,  0.32126743, -0.03021058,  0.50852513,  0.3613461 ,\n",
              "         -0.53368074]], dtype=float32),\n",
              " array([ 0.01927149, -0.01984837,  0.00326545,  0.        , -0.0200711 ,\n",
              "        -0.01987051,  0.00276084, -0.01434188, -0.01978514, -0.01569848,\n",
              "         0.00132487, -0.00215188, -0.01569029,  0.01809676, -0.02012207,\n",
              "         0.00293134], dtype=float32),\n",
              " array([[-0.3229249 ],\n",
              "        [-0.35321435],\n",
              "        [ 0.0755657 ],\n",
              "        [-0.30307397],\n",
              "        [-0.47932833],\n",
              "        [-0.5236196 ],\n",
              "        [ 0.09206585],\n",
              "        [ 0.4307816 ],\n",
              "        [-0.1726868 ],\n",
              "        [ 0.43146428],\n",
              "        [ 0.5488985 ],\n",
              "        [ 0.343584  ],\n",
              "        [ 0.5671709 ],\n",
              "        [-0.00894234],\n",
              "        [-0.22664018],\n",
              "        [ 0.33968437]], dtype=float32),\n",
              " array([-0.01724929], dtype=float32)]"
            ]
          },
          "metadata": {
            "tags": []
          },
          "execution_count": 148
        }
      ]
    },
    {
      "cell_type": "markdown",
      "metadata": {
        "id": "6zY0Ovk3X0QJ",
        "colab_type": "text"
      },
      "source": [
        ""
      ]
    },
    {
      "cell_type": "code",
      "metadata": {
        "id": "UmaD5-GtX0fy",
        "colab_type": "code",
        "outputId": "0a8deb19-fbaf-4ff0-eb1f-d2a984c36542",
        "colab": {
          "base_uri": "https://localhost:8080/",
          "height": 90
        }
      },
      "source": [
        "import pandas as pd\n",
        "t=np.array([0,1,1,0])\n",
        "t=t.reshape(-1,1)\n",
        "t"
      ],
      "execution_count": 0,
      "outputs": [
        {
          "output_type": "execute_result",
          "data": {
            "text/plain": [
              "array([[0],\n",
              "       [1],\n",
              "       [1],\n",
              "       [0]])"
            ]
          },
          "metadata": {
            "tags": []
          },
          "execution_count": 21
        }
      ]
    },
    {
      "cell_type": "code",
      "metadata": {
        "id": "cZT9Z5v-X1Ix",
        "colab_type": "code",
        "colab": {}
      },
      "source": [
        "df=pd.DataFrame(np.hstack((t,y)),columns=[\"Target Output\",\"Predicted Output\"])"
      ],
      "execution_count": 0,
      "outputs": []
    },
    {
      "cell_type": "code",
      "metadata": {
        "id": "8XFRKAysZJvO",
        "colab_type": "code",
        "outputId": "63d4602c-1264-437e-ebf8-b12cad3adb3d",
        "colab": {
          "base_uri": "https://localhost:8080/",
          "height": 324
        }
      },
      "source": [
        "df.plot.bar()\n",
        "plt.xlabel(\"Training Examples\",size=20)\n",
        "plt.ylabel(\"Output\",size=20)\n",
        "plt.xticks(size=13)\n",
        "plt.yticks(size=14)"
      ],
      "execution_count": 0,
      "outputs": [
        {
          "output_type": "execute_result",
          "data": {
            "text/plain": [
              "(array([0. , 0.2, 0.4, 0.6, 0.8, 1. , 1.2]),\n",
              " <a list of 7 Text major ticklabel objects>)"
            ]
          },
          "metadata": {
            "tags": []
          },
          "execution_count": 31
        },
        {
          "output_type": "display_data",
          "data": {
            "image/png": "[encoded data removed]",
            "text/plain": [
              "<Figure size 432x288 with 1 Axes>"
            ]
          },
          "metadata": {
            "tags": [],
            "needs_background": "light"
          }
        }
      ]
    },
    {
      "cell_type": "code",
      "metadata": {
        "id": "C5BmDiOOZZXn",
        "colab_type": "code",
        "outputId": "c5e23bbf-9837-4214-be1b-5e1fcb2e204e",
        "colab": {
          "base_uri": "https://localhost:8080/",
          "height": 168
        }
      },
      "source": [
        "df"
      ],
      "execution_count": 0,
      "outputs": [
        {
          "output_type": "execute_result",
          "data": {
            "text/html": [
              "<div>\n",
              "<style scoped>\n",
              "    .dataframe tbody tr th:only-of-type {\n",
              "        vertical-align: middle;\n",
              "    }\n",
              "\n",
              "    .dataframe tbody tr th {\n",
              "        vertical-align: top;\n",
              "    }\n",
              "\n",
              "    .dataframe thead th {\n",
              "        text-align: right;\n",
              "    }\n",
              "</style>\n",
              "<table border=\"1\" class=\"dataframe\">\n",
              "  <thead>\n",
              "    <tr style=\"text-align: right;\">\n",
              "      <th></th>\n",
              "      <th>Target Output</th>\n",
              "      <th>Predicted Output</th>\n",
              "    </tr>\n",
              "  </thead>\n",
              "  <tbody>\n",
              "    <tr>\n",
              "      <th>0</th>\n",
              "      <td>0.0</td>\n",
              "      <td>0.009253</td>\n",
              "    </tr>\n",
              "    <tr>\n",
              "      <th>1</th>\n",
              "      <td>1.0</td>\n",
              "      <td>0.991050</td>\n",
              "    </tr>\n",
              "    <tr>\n",
              "      <th>2</th>\n",
              "      <td>1.0</td>\n",
              "      <td>0.992367</td>\n",
              "    </tr>\n",
              "    <tr>\n",
              "      <th>3</th>\n",
              "      <td>0.0</td>\n",
              "      <td>0.007616</td>\n",
              "    </tr>\n",
              "  </tbody>\n",
              "</table>\n",
              "</div>"
            ],
            "text/plain": [
              "   Target Output  Predicted Output\n",
              "0            0.0          0.009253\n",
              "1            1.0          0.991050\n",
              "2            1.0          0.992367\n",
              "3            0.0          0.007616"
            ]
          },
          "metadata": {
            "tags": []
          },
          "execution_count": 32
        }
      ]
    },
    {
      "cell_type": "code",
      "metadata": {
        "id": "DlSjmi-daNN3",
        "colab_type": "code",
        "colab": {}
      },
      "source": [
        ""
      ],
      "execution_count": 0,
      "outputs": []
    }
  ]
}